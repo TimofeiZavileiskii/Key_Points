{
 "cells": [
  {
   "metadata": {
    "ExecuteTime": {
     "end_time": "2025-05-15T21:52:44.653020Z",
     "start_time": "2025-05-15T21:52:44.650623Z"
    }
   },
   "cell_type": "code",
   "source": [
    "# The Facial Point Detection competition\n",
    "# Kaggle link to the competition: https://www.kaggle.com/competitions/facial-keypoints-detection"
   ],
   "id": "de1c39f5281c2aa9",
   "outputs": [],
   "execution_count": 1
  },
  {
   "metadata": {
    "ExecuteTime": {
     "end_time": "2025-05-15T21:52:47.803100Z",
     "start_time": "2025-05-15T21:52:44.695529Z"
    }
   },
   "cell_type": "code",
   "source": [
    "import torch\n",
    "import os\n",
    "import numpy as np\n",
    "from fontTools.misc import transform\n",
    "from torch import nn\n",
    "from torch.nn import BatchNorm1d\n",
    "from torch.utils.data import DataLoader, Dataset, random_split\n",
    "from torchvision import datasets\n",
    "from torchvision.transforms import ToTensor\n",
    "import pandas as pd\n",
    "import matplotlib.pyplot as plt\n",
    "import csv"
   ],
   "id": "74d8b90a8a2c5993",
   "outputs": [],
   "execution_count": 2
  },
  {
   "metadata": {
    "ExecuteTime": {
     "end_time": "2025-05-15T21:53:11.617112Z",
     "start_time": "2025-05-15T21:52:47.880531Z"
    }
   },
   "cell_type": "code",
   "source": [
    "def images_df_to_tensor(df):\n",
    "    split_df = df['Image'].str.split(' ', expand=True)\n",
    "    array = split_df.astype(np.float32).to_numpy()\n",
    "    tensor = torch.tensor(array, dtype=torch.float32)\n",
    "    tensor = tensor.reshape(-1, 1, 96, 96)\n",
    "    return tensor\n",
    "\n",
    "class FacialDataset(Dataset):\n",
    "    def __init__(self, csv_path):\n",
    "        self.images = pd.read_csv(csv_path)\n",
    "        self.labels = self.images.drop(\"Image\", axis=1)\n",
    "        self.images = self.images[[\"Image\"]]\n",
    "\n",
    "        self.labels = torch.tensor(self.labels.values, dtype=torch.float32).squeeze() / 95 - 0.5\n",
    "        self.images = images_df_to_tensor(self.images) / 255 - 0.5\n",
    "\n",
    "    def __len__(self):\n",
    "        return len(self.images)\n",
    "\n",
    "    def __getitem__(self, idx):\n",
    "        return self.images[idx], self.labels[idx]\n",
    "\n",
    "class UnlabeledFacialDataset(Dataset):\n",
    "    def __init__(self, csv_path):\n",
    "        self.images = pd.read_csv(csv_path)\n",
    "        self.images = self.images[[\"Image\"]]\n",
    "        self.images = images_df_to_tensor(self.images) / 255 - 0.5\n",
    "\n",
    "    def __len__(self):\n",
    "        return len(self.images)\n",
    "\n",
    "    def __getitem__(self, idx):\n",
    "        return self.images[idx]\n",
    "\n",
    "train_dataset = FacialDataset(\"data/training.csv\")\n",
    "\n",
    "generator = torch.Generator().manual_seed(42)\n",
    "train_set, test_set = random_split(train_dataset, [0.80, 0.20], generator=generator)\n",
    "\n",
    "train_loader = DataLoader(train_dataset, batch_size=64, shuffle=True)\n",
    "test_loader = DataLoader(test_set, batch_size=64, shuffle=True)"
   ],
   "id": "a2a040da9fc69d05",
   "outputs": [],
   "execution_count": 3
  },
  {
   "metadata": {
    "ExecuteTime": {
     "end_time": "2025-05-15T21:53:11.637367Z",
     "start_time": "2025-05-15T21:53:11.629747Z"
    }
   },
   "cell_type": "code",
   "source": "train_dataset.images.shape",
   "id": "f161ff1e54f71778",
   "outputs": [
    {
     "data": {
      "text/plain": [
       "torch.Size([7049, 1, 96, 96])"
      ]
     },
     "execution_count": 4,
     "metadata": {},
     "output_type": "execute_result"
    }
   ],
   "execution_count": 4
  },
  {
   "metadata": {
    "ExecuteTime": {
     "end_time": "2025-05-15T21:53:11.803Z",
     "start_time": "2025-05-15T21:53:11.675966Z"
    }
   },
   "cell_type": "code",
   "source": [
    "# Display image and label.\n",
    "train_features, train_labels = next(iter(train_loader))\n",
    "print(f\"Feature batch shape: {train_features.size()}\")\n",
    "print(f\"Labels batch shape: {train_labels.size()}\")\n",
    "img = (train_features[0].squeeze() + 0.5) * 255\n",
    "label = train_labels[0]\n",
    "print(f\"Feature batch shape: {train_features.size()}\")\n",
    "plt.imshow(img, cmap=\"gray\")\n",
    "plt.show()\n",
    "print(f\"Label: {label}\")\n"
   ],
   "id": "ad5ddb5bcd19075b",
   "outputs": [
    {
     "name": "stdout",
     "output_type": "stream",
     "text": [
      "Feature batch shape: torch.Size([64, 1, 96, 96])\n",
      "Labels batch shape: torch.Size([64, 30])\n",
      "Feature batch shape: torch.Size([64, 1, 96, 96])\n"
     ]
    },
    {
     "data": {
      "text/plain": [
       "<Figure size 640x480 with 1 Axes>"
      ],
      "image/png": "[encoded data removed]"
     },
     "metadata": {},
     "output_type": "display_data"
    },
    {
     "name": "stdout",
     "output_type": "stream",
     "text": [
      "Label: tensor([ 0.2150, -0.1191, -0.1552, -0.1301,     nan,     nan,     nan,     nan,\n",
      "            nan,     nan,     nan,     nan,     nan,     nan,     nan,     nan,\n",
      "            nan,     nan,     nan,     nan,  0.0171,  0.1485,     nan,     nan,\n",
      "            nan,     nan,     nan,     nan,  0.0207,  0.2841])\n"
     ]
    }
   ],
   "execution_count": 5
  },
  {
   "metadata": {
    "ExecuteTime": {
     "end_time": "2025-05-15T21:53:14.382322Z",
     "start_time": "2025-05-15T21:53:11.830387Z"
    }
   },
   "cell_type": "code",
   "source": [
    "device = torch.accelerator.current_accelerator().type if torch.accelerator.is_available() else \"cpu\"\n",
    "print(f\"Using {device} device\")\n",
    "\n",
    "class LinearBlock(nn.Module):\n",
    "    def __init__(self, in_features, out_features):\n",
    "        super().__init__()\n",
    "        self.linear = nn.Linear(in_features, out_features)\n",
    "        self.relu = nn.LeakyReLU(0.1)\n",
    "        self.norm = nn.BatchNorm1d(out_features)\n",
    "\n",
    "    def forward(self, x):\n",
    "        x = self.linear(x)\n",
    "        x = self.norm(x)\n",
    "        x = self.relu(x)\n",
    "        return x\n",
    "\n",
    "class ConvBlock(nn.Module):\n",
    "    def __init__(self, in_features, out_features):\n",
    "        super().__init__()\n",
    "        self.conv = nn.Conv2d(in_features, out_features, 3, padding=1)\n",
    "        self.batchnorm = nn.BatchNorm2d(out_features)\n",
    "        self.relu = nn.LeakyReLU(0.1)\n",
    "\n",
    "    def forward(self, x):\n",
    "        x = self.conv(x)\n",
    "        x = self.batchnorm(x)\n",
    "        x = self.relu(x)\n",
    "        return x\n",
    "\n",
    "class ConvResBlock(nn.Module):\n",
    "    def __init__(self, in_features, out_features, num_layers):\n",
    "        super().__init__()\n",
    "        self.entry_batchnorm = nn.BatchNorm2d(in_features)\n",
    "        self.expansion_conv = ConvBlock(in_features, out_features)\n",
    "        self.conv_blocks = nn.ModuleList([ConvBlock(out_features, out_features) for _ in range(num_layers - 1)])\n",
    "        self.batchnorms = nn.ModuleList([nn.BatchNorm2d(out_features) for _ in range(num_layers - 1)])\n",
    "\n",
    "    def forward(self, x):\n",
    "        x = self.entry_batchnorm(x)\n",
    "        x = self.expansion_conv(x)\n",
    "        for conv_block, batchnorm in zip(self.conv_blocks, self.batchnorms):\n",
    "            x = x + conv_block(x)\n",
    "            x = batchnorm(x)\n",
    "        return x\n",
    "\n",
    "class LinearResBlock(nn.Module):\n",
    "    def __init__(self, in_features, out_features, num_layers):\n",
    "        super().__init__()\n",
    "        self.entry_batchnorm = nn.BatchNorm1d(in_features)\n",
    "        self.expansion_linear = LinearBlock(in_features, out_features)\n",
    "        self.linear_blocks = nn.ModuleList([LinearBlock(out_features, out_features) for _ in range(num_layers - 1)])\n",
    "        self.batchnorms = nn.ModuleList([nn.BatchNorm1d(out_features) for _ in range(num_layers - 1)])\n",
    "\n",
    "    def forward(self, x):\n",
    "        x = self.entry_batchnorm(x)\n",
    "        x = self.expansion_linear(x)\n",
    "        for linear_block, batchnorm in zip(self.linear_blocks, self.batchnorms):\n",
    "            x = x + linear_block(x)\n",
    "            x = batchnorm(x)\n",
    "        return x\n",
    "\n",
    "# Define model\n",
    "class NeuralNetwork(nn.Module):\n",
    "    def __init__(self, conv_per_layer=3, linear_per_layer=3):\n",
    "        super().__init__()\n",
    "\n",
    "        self.conv_stack = nn.Sequential(\n",
    "            ConvResBlock(1, 2, conv_per_layer),\n",
    "            ConvResBlock(2, 4, conv_per_layer),\n",
    "            nn.MaxPool2d(2),\n",
    "            ConvResBlock(4, 8, conv_per_layer),\n",
    "            ConvResBlock(8, 16, conv_per_layer),\n",
    "            nn.MaxPool2d(2),\n",
    "            ConvResBlock(16, 16, conv_per_layer),\n",
    "            ConvResBlock(16, 32, conv_per_layer),\n",
    "            nn.MaxPool2d(2)\n",
    "        )\n",
    "        self.flatten = nn.Flatten()\n",
    "        self.block1 = LinearResBlock(4608, 4608*2, linear_per_layer)\n",
    "        self.block2 = LinearResBlock(4608*2, 4608, linear_per_layer)\n",
    "        self.block3 = LinearBlock(4608, 30)\n",
    "\n",
    "    def forward(self, x):\n",
    "        x = self.conv_stack(x)\n",
    "        x = self.flatten(x)\n",
    "        x = self.block1(x)\n",
    "        x = self.block2(x)\n",
    "        x = self.block3(x)\n",
    "        return x\n",
    "\n",
    "model = NeuralNetwork(3, 3).eval()\n",
    "print(f\"Model size {sum(p.numel() for p in model.parameters())}\")\n",
    "\n",
    "_ = model(train_dataset[0][0].unsqueeze(0))\n"
   ],
   "id": "501c47a387f91171",
   "outputs": [
    {
     "name": "stdout",
     "output_type": "stream",
     "text": [
      "Using cuda device\n",
      "Model size 297655696\n"
     ]
    }
   ],
   "execution_count": 6
  },
  {
   "metadata": {
    "ExecuteTime": {
     "end_time": "2025-05-15T21:53:14.411598Z",
     "start_time": "2025-05-15T21:53:14.403960Z"
    }
   },
   "cell_type": "code",
   "source": [
    "step_count = 0\n",
    "\n",
    "train_losses = []\n",
    "test_losses = []\n",
    "\n",
    "def train(dataloader, model, loss_fn, optimizer):\n",
    "    global step_count\n",
    "    global train_accuracy, train_losses\n",
    "    total_loss = 0\n",
    "    total = 0\n",
    "    curr_step_count = 0\n",
    "\n",
    "    size = len(dataloader.dataset)\n",
    "    model.train()\n",
    "    for batch, (X, y) in enumerate(dataloader):\n",
    "        X, y = X.to(device), y.to(device)\n",
    "\n",
    "        # Compute prediction error\n",
    "        pred = model(X)\n",
    "        loss = loss_fn(pred, y)\n",
    "        total_loss += loss.item()\n",
    "        total += y.size(0)\n",
    "\n",
    "        # Backpropagation\n",
    "        loss.backward()\n",
    "        optimizer.step()\n",
    "        step_count += 1\n",
    "        curr_step_count += 1\n",
    "        optimizer.zero_grad()\n",
    "\n",
    "        if batch % 100 == 0:\n",
    "            loss, current = loss.item(), (batch + 1) * len(X)\n",
    "            print(f\"Loss: {loss:>7f}  [{current:>5d}/{size:>5d}]\")\n",
    "            print(f\"At step count {step_count}\")\n",
    "\n",
    "    train_losses.append(total_loss / curr_step_count)\n",
    "\n",
    "def test(dataloader, model, loss_fn):\n",
    "    global test_losses\n",
    "\n",
    "    size = len(dataloader.dataset)\n",
    "    num_batches = len(dataloader)\n",
    "    model.eval()\n",
    "    test_loss, correct = 0, 0\n",
    "    with torch.no_grad():\n",
    "        for X, y in dataloader:\n",
    "            X, y = X.to(device), y.to(device)\n",
    "            pred = model(X)\n",
    "            test_loss += loss_fn(pred, y).item()\n",
    "    test_loss /= num_batches\n",
    "    correct /= size\n",
    "    print(f\"Test Error: \\n Avg loss: {test_loss:>8f} \\n\")\n",
    "    test_losses.append(test_loss)"
   ],
   "id": "abb87fb5dbd8cd5b",
   "outputs": [],
   "execution_count": 7
  },
  {
   "metadata": {
    "ExecuteTime": {
     "end_time": "2025-05-15T21:53:59.881818Z",
     "start_time": "2025-05-15T21:53:14.464819Z"
    }
   },
   "cell_type": "code",
   "source": [
    "train_losses = []\n",
    "test_losses = []\n",
    "\n",
    "def plot_metrics():\n",
    "    global train_losses, test_losses\n",
    "\n",
    "    fig, ax = plt.subplots(1, 1, figsize=(25, 10))\n",
    "\n",
    "    # Plot loss\n",
    "    ax.plot(train_losses[10:], label='Train Loss', marker='o', linestyle='-')\n",
    "    ax.plot(test_losses[10:], label='Test Loss', marker='s', linestyle='--')\n",
    "\n",
    "    ax.set_title(\"Loss Over Epochs\")\n",
    "    ax.set_xlabel(\"Epoch\")\n",
    "    ax.set_ylabel(\"Loss\")\n",
    "    ax.legend()\n",
    "    ax.grid()\n",
    "    plt.show()\n",
    "\n",
    "class loss_function(nn.Module):\n",
    "    def __init__(self):\n",
    "        super().__init__()\n",
    "        self.mse_loss = nn.MSELoss()\n",
    "\n",
    "    def forward(self, label, x):\n",
    "        mask = ~torch.isnan(x)\n",
    "        return self.mse_loss(x[mask], label[mask])\n",
    "\n",
    "model = NeuralNetwork().to(device)\n",
    "loss_fn = loss_function()\n",
    "optimizer = torch.optim.Adam(model.parameters(), lr=3e-4)\n",
    "\n",
    "epochs = 2\n",
    "print(\"Start\")\n",
    "for t in range(epochs):\n",
    "    print(f\"Epoch {t+1}\\n-------------------------------\")\n",
    "    train(train_loader, model, loss_fn, optimizer)\n",
    "    test(test_loader, model, loss_fn)\n",
    "print(\"Done!\")\n",
    "\n",
    "torch.save(model.state_dict(), \"model_weights_commit_3.pth\")\n",
    "\n",
    "plot_metrics()"
   ],
   "id": "4683ab6aa09f3257",
   "outputs": [
    {
     "name": "stdout",
     "output_type": "stream",
     "text": [
      "Start\n",
      "Epoch 1\n",
      "-------------------------------\n",
      "Loss: 0.526091  [   64/ 7049]\n",
      "At step count 1\n",
      "Loss: 0.044740  [ 6464/ 7049]\n",
      "At step count 101\n",
      "Test Error: \n",
      " Avg loss: 0.141880 \n",
      "\n",
      "Epoch 2\n",
      "-------------------------------\n",
      "Loss: 0.036802  [   64/ 7049]\n",
      "At step count 112\n",
      "Loss: 0.027153  [ 6464/ 7049]\n",
      "At step count 212\n",
      "Test Error: \n",
      " Avg loss: 0.539209 \n",
      "\n",
      "Done!\n"
     ]
    },
    {
     "data": {
      "text/plain": [
       "<Figure size 2500x1000 with 1 Axes>"
      ],
      "image/png": "[encoded data removed]"
     },
     "metadata": {},
     "output_type": "display_data"
    }
   ],
   "execution_count": 8
  },
  {
   "metadata": {
    "ExecuteTime": {
     "end_time": "2025-05-15T21:54:06.729165Z",
     "start_time": "2025-05-15T21:53:59.887875Z"
    }
   },
   "cell_type": "code",
   "source": [
    "submission_loader = UnlabeledFacialDataset(\"data/test.csv\")\n",
    "\n",
    "features_list = [\n",
    "    \"left_eye_center_x\", \"left_eye_center_y\",\n",
    "    \"right_eye_center_x\", \"right_eye_center_y\",\n",
    "    \"left_eye_inner_corner_x\", \"left_eye_inner_corner_y\",\n",
    "    \"left_eye_outer_corner_x\", \"left_eye_outer_corner_y\",\n",
    "    \"right_eye_inner_corner_x\", \"right_eye_inner_corner_y\",\n",
    "    \"right_eye_outer_corner_x\", \"right_eye_outer_corner_y\",\n",
    "    \"left_eyebrow_inner_end_x\", \"left_eyebrow_inner_end_y\",\n",
    "    \"left_eyebrow_outer_end_x\", \"left_eyebrow_outer_end_y\",\n",
    "    \"right_eyebrow_inner_end_x\", \"right_eyebrow_inner_end_y\",\n",
    "    \"right_eyebrow_outer_end_x\", \"right_eyebrow_outer_end_y\",\n",
    "    \"nose_tip_x\", \"nose_tip_y\",\n",
    "    \"mouth_left_corner_x\", \"mouth_left_corner_y\",\n",
    "    \"mouth_right_corner_x\", \"mouth_right_corner_y\",\n",
    "    \"mouth_center_top_lip_x\", \"mouth_center_top_lip_y\",\n",
    "    \"mouth_center_bottom_lip_x\", \"mouth_center_bottom_lip_y\"\n",
    "]\n",
    "\n",
    "map_feature_to_index = {\n",
    "    feature: i for i, feature in enumerate(features_list)\n",
    "}\n",
    "\n",
    "#Generate Submission\n",
    "# Use the trained model to predict labels for unlabeled data\n",
    "def predict_on_unlabeled_data(model, dataloader, device, test_format_file_name, output_file_name):\n",
    "    model.eval()  # Set the model to evaluation mode\n",
    "    image_index_to_prediction = {}\n",
    "\n",
    "    with open(test_format_file_name, newline='') as csv_file:\n",
    "        csv_reader = csv.DictReader(csv_file)\n",
    "\n",
    "        with open(output_file_name, mode='w', newline='') as csvfile_out:\n",
    "            writer = csv.DictWriter(csvfile_out, fieldnames=[\"RowId\", \"Location\"])\n",
    "            writer.writeheader()\n",
    "\n",
    "            with torch.no_grad():\n",
    "                for row in csv_reader:\n",
    "                    image_id = int(row[\"ImageId\"])\n",
    "                    if image_id not in image_index_to_prediction:\n",
    "                        model_prediction = model(dataloader[image_id-1].to(device).unsqueeze(0))\n",
    "                        model_prediction = (model_prediction + 0.5) * 95\n",
    "                        model_prediction = torch.clamp(model_prediction, min=0, max=95)\n",
    "                        rounded_prediction = torch.round(model_prediction).to(torch.int)\n",
    "                        image_index_to_prediction[image_id] = rounded_prediction.squeeze(0).cpu().numpy()\n",
    "\n",
    "                    to_write_row = {}\n",
    "                    to_write_row[\"RowId\"] = row[\"RowId\"]\n",
    "                    to_write_row[\"Location\"] = image_index_to_prediction[image_id][map_feature_to_index[row[\"FeatureName\"]]]\n",
    "                    writer.writerow(to_write_row)\n",
    "\n",
    "\n",
    "predict_on_unlabeled_data(model, submission_loader, device, \"IdLookupTable.csv\", \"submission.csv\")\n"
   ],
   "id": "c778223924987ad5",
   "outputs": [
    {
     "name": "stderr",
     "output_type": "stream",
     "text": [
      "\n",
      "KeyboardInterrupt\n",
      "\n"
     ]
    }
   ],
   "execution_count": 9
  },
  {
   "metadata": {
    "ExecuteTime": {
     "end_time": "2025-05-15T21:54:06.742154682Z",
     "start_time": "2025-04-28T22:58:09.373804Z"
    }
   },
   "cell_type": "code",
   "source": "",
   "id": "ad3b3633f501d440",
   "outputs": [],
   "execution_count": null
  }
 ],
 "metadata": {
  "kernelspec": {
   "display_name": "Python 3",
   "language": "python",
   "name": "python3"
  },
  "language_info": {
   "codemirror_mode": {
    "name": "ipython",
    "version": 2
   },
   "file_extension": ".py",
   "mimetype": "text/x-python",
   "name": "python",
   "nbconvert_exporter": "python",
   "pygments_lexer": "ipython2",
   "version": "2.7.6"
  }
 },
 "nbformat": 4,
 "nbformat_minor": 5
}
